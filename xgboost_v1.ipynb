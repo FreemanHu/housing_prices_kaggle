{
 "cells": [
  {
   "cell_type": "markdown",
   "metadata": {},
   "source": [
    "# 版本说明 #\n",
    "这个版本只是实现了用XGBoost训练了一下数据，使用的超参是之前做练习的时候获得的。"
   ]
  },
  {
   "cell_type": "markdown",
   "metadata": {},
   "source": [
    "# 1. 读取数据 #"
   ]
  },
  {
   "cell_type": "code",
   "execution_count": 1,
   "metadata": {},
   "outputs": [],
   "source": [
    "import pandas as pd\n",
    "from sklearn.model_selection import train_test_split\n",
    "\n",
    "# 数据文件的路径\n",
    "file_path_train = './datas/train.csv'\n",
    "file_path_test = './datas/test.csv'\n",
    "\n",
    "X_full = pd.read_csv(file_path_train,index_col='Id') # 读取训练集\n",
    "X_full_test = pd.read_csv(file_path_test,index_col='Id') # 读取测试集\n",
    "\n",
    "X_full.dropna(axis=0,subset=['SalePrice'],inplace=True) # 删除没有SalePrice的数据\n",
    "y_full = X_full['SalePrice'] # 设置训练集的y\n",
    "X_full.drop(columns='SalePrice',axis=1,inplace=True) # 把y从训练集X中删除\n",
    "\n",
    "# 把训练集分割成训练集和测试集\n",
    "X_full_train,X_full_valid,y_train,y_valid = train_test_split(X_full,y_full,test_size=0.2)\n",
    "\n",
    "# 获得所有类型是文字数量小于10的列\n",
    "columns_low_cardinality = [c for c in X_full_train.columns \n",
    "                                   if X_full_train[c].nunique() < 10 and\n",
    "                                      X_full_train[c].dtype == 'object']\n",
    "# 获得所有类型为数字的列\n",
    "columns_numeric = [c for c in X_full_train.columns\n",
    "                           if X_full_train[c].dtype in ['int64','float64']]\n",
    "\n",
    "# 设置实际训练使用的列，生成新的copy，防止污染原数据\n",
    "columns_my = columns_low_cardinality + columns_numeric # 用来训练的列\n",
    "X_full = X_full[columns_my]\n",
    "X_train = X_full_train[columns_my].copy()\n",
    "X_valid = X_full_valid[columns_my].copy()\n",
    "X_test = X_full_test[columns_my].copy()"
   ]
  },
  {
   "cell_type": "markdown",
   "metadata": {},
   "source": [
    "# 2. 数据清洗 #"
   ]
  },
  {
   "cell_type": "code",
   "execution_count": 2,
   "metadata": {},
   "outputs": [],
   "source": [
    "from sklearn.impute import SimpleImputer\n",
    "from sklearn.preprocessing import OneHotEncoder\n",
    "from sklearn.pipeline import Pipeline,make_pipeline\n",
    "from sklearn.compose import ColumnTransformer\n",
    "\n",
    "imputer_numeric = SimpleImputer(strategy='median') # 数字列nan用median填充\n",
    "\n",
    "imputer_categorical = SimpleImputer(strategy='most_frequent') # 文字列用出现最多元素填充\n",
    "onehot_encoder = OneHotEncoder(handle_unknown='ignore') # onehot转化器\n",
    "transformer_categorical = Pipeline([('imp',imputer_categorical), # 把文本处理的整合成pipeline\n",
    "                                    ('oh',onehot_encoder)])\n",
    "\n",
    "# 把imputer和encoder根据列整合起来\n",
    "preprocessor = ColumnTransformer([('num',imputer_numeric,columns_numeric),\n",
    "                                  ('text',transformer_categorical,columns_low_cardinality)])"
   ]
  },
  {
   "cell_type": "markdown",
   "metadata": {},
   "source": [
    "# 3.    训练模型 #"
   ]
  },
  {
   "cell_type": "code",
   "execution_count": 3,
   "metadata": {},
   "outputs": [
    {
     "name": "stdout",
     "output_type": "stream",
     "text": [
      "训练集的MAE:4,724.52\n",
      "验证集的MAE:15,541.32\n"
     ]
    }
   ],
   "source": [
    "from xgboost import XGBRegressor\n",
    "from sklearn.metrics import mean_absolute_error\n",
    "\n",
    "model = XGBRegressor(max_depth=6,n_estimators=250,learning_rate=0.03)\n",
    "\n",
    "pipeline = Pipeline(steps=[('preprocessor',preprocessor),\n",
    "                           ('model',model)])\n",
    "\n",
    "pipeline.fit(X_train,y_train)\n",
    "\n",
    "preds_train = pipeline.predict(X_train) # 训练集的预测值\n",
    "print(\"训练集的MAE:{:,.2f}\".format(mean_absolute_error(preds_train,y_train))) # 训练集MAE\n",
    "\n",
    "preds_valid = pipeline.predict(X_valid) # 验证集的预测值\n",
    "print(\"验证集的MAE:{:,.2f}\".format(mean_absolute_error(preds_valid,y_valid))) # 验证集MAE"
   ]
  },
  {
   "cell_type": "markdown",
   "metadata": {},
   "source": [
    "# 4. 生成测试数据 #"
   ]
  },
  {
   "cell_type": "code",
   "execution_count": 4,
   "metadata": {},
   "outputs": [],
   "source": [
    "pipeline.fit(X_full,y_full) #用所有训练集训练数据\n",
    "\n",
    "preds_test = pipeline.predict(X_test) # 测试集的预测值\n",
    "output = pd.DataFrame({'SalePrice':preds_test},\n",
    "                      index=X_test.index)\n",
    "output.to_csv('output/submissions.csv')"
   ]
  },
  {
   "cell_type": "code",
   "execution_count": null,
   "metadata": {},
   "outputs": [],
   "source": []
  }
 ],
 "metadata": {
  "kernelspec": {
   "display_name": "Python 3",
   "language": "python",
   "name": "python3"
  },
  "language_info": {
   "codemirror_mode": {
    "name": "ipython",
    "version": 3
   },
   "file_extension": ".py",
   "mimetype": "text/x-python",
   "name": "python",
   "nbconvert_exporter": "python",
   "pygments_lexer": "ipython3",
   "version": "3.7.6"
  }
 },
 "nbformat": 4,
 "nbformat_minor": 4
}
